{
 "cells": [
  {
   "cell_type": "markdown",
   "metadata": {},
   "source": [
    "### SENTIMENT ANALYSIS (IN ARABIC) ###\n",
    "\n",
    "#### TODO ####\n",
    "  - Test w2v.vocab length to ensure that unknown words are actually being add/trained\n",
    "  - Remove high sequence # outliers (from 176 to closer to 20/30)\n",
    "  - Arabic Stop Words (https://github.com/mohataher/arabic-stop-words)\n",
    "    - https://www.kaggle.com/lystdo/lstm-with-word2vec-embeddings/code (https://www.kaggle.com/currie32/quora-question-pairs/the-importance-of-cleaning-text)\n",
    "  - t-SNE implementation (even though it won't make much sense to non-Arabic reader)\n",
    "  - Grid Search, across Hyperparams\n",
    "  - GRU vs. LSTM (https://datascience.stackexchange.com/questions/14581/when-to-use-gru-over-lstm)"
   ]
  },
  {
   "cell_type": "code",
   "execution_count": 25,
   "metadata": {},
   "outputs": [],
   "source": [
    "import numpy as np\n",
    "from keras.models import Model, Sequential\n",
    "from keras.layers import Dense, Input, Dropout, LSTM, Activation\n",
    "from keras.layers import Bidirectional, GlobalMaxPool1D\n",
    "from keras.layers.embeddings import Embedding\n",
    "from keras.preprocessing import sequence\n",
    "from keras.initializers import glorot_uniform"
   ]
  },
  {
   "cell_type": "markdown",
   "metadata": {},
   "source": [
    "__[How is GloVe different from word2vec?](https://www.quora.com/How-is-GloVe-different-from-word2vec)__: TL;DR\n",
    " - Perform roughtly the same function, but are built differently (Word2Vec is a \"predictive\" Feed-Fwd NN w/ SGD)\n",
    " - GloVe is result of Stanford NLP wanting to build on the Word2Vec concept of \"semantic analogies\" and yet retain \"intrinsic statistical properties of the corpus\" (i.e., \"word occurrence statistics\")\n",
    "\n",
    "__[GloVe vs word2vec revisited.](http://dsnotes.com/post/glove-enwiki/)__: TL;DR\n",
    " - Results are similar enough (maybe GloVe is slightly more accurate)\n",
    " - Trade-off: GloVe uses A LOT of RAM/Memory (on order of 15x more!); Word2Vec is 2x slower"
   ]
  },
  {
   "cell_type": "markdown",
   "metadata": {},
   "source": [
    "#### Credits ####\n",
    "\n",
    " - Sentiment Analysis for Arabic Text (tweets, reviews, and standard Arabic) using word2vec\n",
    "  - https://github.com/iamaziz/ar-embeddings\n",
    "  - A. Altowayan and L. Tao \"Word Embeddings for Arabic Sentiment Analysis\", IEEE BigData 2016 Workshop"
   ]
  },
  {
   "cell_type": "code",
   "execution_count": 2,
   "metadata": {
    "collapsed": true
   },
   "outputs": [],
   "source": [
    "from gensim.models import KeyedVectors\n",
    "def load_w2v():\n",
    "    return KeyedVectors.load_word2vec_format(\"/home/zmccoy/sandbox/sentiment-analysis-arabic/arabic-news.bin\", binary=True)"
   ]
  },
  {
   "cell_type": "code",
   "execution_count": 3,
   "metadata": {
    "collapsed": true
   },
   "outputs": [],
   "source": [
    "w2v = load_w2v()"
   ]
  },
  {
   "cell_type": "code",
   "execution_count": 4,
   "metadata": {
    "collapsed": true
   },
   "outputs": [],
   "source": [
    "MAX_SEQUENCE_LENGTH = 176 # based on our inputs; TODO: remove outliers? dynamically calculate!\n",
    "MAX_NB_WORDS = len(w2v.vocab) #159175 \n",
    "EMBEDDING_DIM = 300 # w2v "
   ]
  },
  {
   "cell_type": "code",
   "execution_count": 5,
   "metadata": {},
   "outputs": [
    {
     "name": "stdout",
     "output_type": "stream",
     "text": [
      "(300,)\n",
      "[-1.6872431   0.06232609  1.0642494  -1.2952522  -0.56399482  1.30242467\n",
      "  0.25268376 -1.37759209 -2.12782931 -3.13324714 -0.355481    0.49089\n",
      " -0.63530803  0.51887447  0.99442923  1.84374964 -1.50754535  1.10023808\n",
      "  2.31739926  0.24415255  1.60909331  1.56448472  0.58987832  0.53818309\n",
      " -0.46916008 -3.7630856  -0.65652722 -1.52495062  2.25925207  3.35305333\n",
      "  0.66554737 -0.24209391 -2.06305003  3.35495043  0.85857975  1.9354918\n",
      " -1.14085197 -1.23579872 -0.14620462  1.02741826  1.00827396  2.12069774\n",
      " -1.53577149 -1.30223894  2.6491437   4.66771269 -0.80758655 -1.7406559\n",
      " -2.27923775 -4.56534815  0.12741372  2.98800182  0.81155759  1.6151762\n",
      " -1.4446131   1.55492806 -2.81950688 -1.56710207 -0.8231591   1.85734284\n",
      "  1.75780141 -0.51995742  1.27112544  1.08764791 -2.21485662  1.2462399\n",
      " -0.17221761 -0.23791917  2.83965659 -0.12337269  0.22964522  0.15169899\n",
      " -0.33180708 -0.74332851  1.50870025 -1.16763616 -1.62154007 -0.77913147\n",
      " -0.27489448 -0.74075389  1.87118518  2.368469    3.56818104  0.99296391\n",
      "  1.04874098 -2.08123589  1.37504339 -1.93388963  0.41380289  2.33258724\n",
      "  0.21007228 -1.10879874  1.93087935 -0.30770463 -1.66234875 -0.20722386\n",
      " -0.62311971  0.53257513  1.15819311 -1.77121305  0.26545843 -0.18541171\n",
      "  2.07124925  1.70944619 -1.20602322 -1.32067847 -0.91572076  0.55547637\n",
      " -2.5276711   0.87687433 -0.77562386  0.05870224  0.03082647 -1.9922775\n",
      "  2.12124157 -1.08257639  1.74640059 -0.09772795  0.95180207 -0.07323015\n",
      "  1.25910318 -2.39289308 -0.11480521 -0.15890668  1.72289884  0.19067422\n",
      "  3.6416719   0.3112559  -1.34407973 -0.6066485  -1.64187205  0.19127449\n",
      "  1.32918882 -0.11856426 -0.15265857 -2.90496683  3.83542848  2.74716473\n",
      " -0.10415132  2.17219663  2.66448712 -2.09520459  0.36926982  0.03211206\n",
      " -1.28781652 -0.93424332  1.66877341 -1.90016246 -0.7790696   1.48150933\n",
      "  0.99027699 -0.51287329  0.06211715  0.41232771 -0.74279058 -2.5348196\n",
      "  1.5031445   0.92423165  1.0379374  -0.67309064  1.55358696 -1.27121794\n",
      " -0.42268386  2.70812201  0.84484071 -3.79101086 -1.73040152  1.50684309\n",
      "  0.79218841 -0.993191    2.49937487  2.62357092  0.12616658  0.90327364\n",
      " -0.72575712  0.13993302  0.29023093 -1.35257399 -0.59044039 -2.45136023\n",
      " -0.96391755 -1.12241113 -2.07779217  2.21273422  0.41210809 -1.93073213\n",
      "  0.73050475  0.50840199 -1.5190798  -0.22723715 -1.0215714   2.5381465\n",
      "  0.15913987  0.99644953  1.77140868  0.80555964 -2.54764605 -0.30808926\n",
      " -0.88278091 -2.33627319  0.5052281  -2.24187899  1.95371437 -2.37937617\n",
      " -3.27809429 -1.32967126 -0.6369012   0.64158821  0.17330036  1.06172943\n",
      " -1.25648773 -2.22448277  2.11695647  1.00150025  0.49845695  1.27345455\n",
      " -1.47027576  0.66297007  1.421978   -0.49103224  0.43196052 -2.19681835\n",
      " -1.16425037 -1.796767    0.41825885  0.86112076  1.65567827 -0.23728451\n",
      " -2.3945868   1.90360057  2.342242    0.77961993 -1.78336155  0.55167681\n",
      " -3.33018875 -0.61891711  0.3562654  -1.65241277  0.48541337 -4.59687757\n",
      " -1.05998957  0.11223692  2.31563115 -1.06134927  1.22804534  0.49434501\n",
      " -2.0403645  -0.58335882  1.22269094  0.96696973 -0.37473768 -2.35039139\n",
      " -2.00359845  0.90700698  0.89843929  1.22945523 -0.75804096  2.34955883\n",
      " -0.9318428  -1.72808194 -2.92210126 -0.39372817  2.59586406 -1.93345249\n",
      " -2.72941804 -0.97825778  0.29627386  0.97939926 -0.89514059  1.12199998\n",
      "  0.49538529 -0.10062943  2.05617929  2.68794084  1.03524852  0.18714815\n",
      " -1.18762815  0.50856256 -0.42057836 -0.11922853  0.84256572 -0.70194602\n",
      " -0.22028092 -0.4973354  -0.53214735  1.58385062  2.9846065  -1.32169747\n",
      "  5.02044201  3.09241605  2.61842823  5.33066225 -0.6990087   1.60727561\n",
      " -1.6846801  -0.40032205  0.43311778 -2.10310388  1.10964584 -1.74830973]\n"
     ]
    }
   ],
   "source": [
    "sample = w2v[\"حسن\"]\n",
    "print(sample.shape)\n",
    "print(sample)"
   ]
  },
  {
   "cell_type": "code",
   "execution_count": 6,
   "metadata": {},
   "outputs": [],
   "source": [
    "import os\n",
    "import glob\n",
    "import codecs\n",
    "from keras.preprocessing.text import text_to_word_sequence\n",
    "from keras.preprocessing.text import Tokenizer\n",
    "from keras.preprocessing.sequence import pad_sequences\n",
    "\n",
    "def get_label(path):\n",
    "    filename = path[path.rfind('/'):]\n",
    "    if filename.startswith(\"/pos\"):\n",
    "        return 1\n",
    "    return 0\n",
    "\n",
    "def get_text(path):\n",
    "    text = \"\"\n",
    "    # use codecs.open to ingnore non utf-8 encoded chars; instead of \"with open(path, 'r') as myfile:\"\n",
    "    with codecs.open(path, \"r\", encoding='utf-8', errors='ignore') as myfile:\n",
    "        text = myfile.read()\n",
    "    return text\n",
    "\n",
    "def get_text_sequences(texts):\n",
    "    tokenizer = Tokenizer(num_words=MAX_NB_WORDS)\n",
    "    tokenizer.fit_on_texts(texts)\n",
    "    sequences = tokenizer.texts_to_sequences(texts)\n",
    "    word_index = tokenizer.word_index\n",
    "    #print('Found %s unique tokens.' % len(word_index))\n",
    "    data = pad_sequences(sequences, maxlen=MAX_SEQUENCE_LENGTH)\n",
    "    return data, word_index\n",
    "\n",
    "def get_data_encoded(path):\n",
    "    vectors = []\n",
    "    padded_vectors = []\n",
    "    unknown_words = []\n",
    "    labels = []\n",
    "    all_paths = glob.glob(os.path.join(path,'*.txt'))\n",
    "    np.random.shuffle(all_paths)\n",
    "    for path in all_paths:\n",
    "        # use codecs.open to ingnore non utf-8 encoded chars; instead of \"with open(path, 'r') as myfile:\"\n",
    "        with codecs.open(path, \"r\", encoding='utf-8', errors='ignore') as myfile:\n",
    "            text = myfile.read()\n",
    "            word_sequences = text_to_word_sequence(text,\n",
    "                                        filters='ا\\n\\ufeff\\xa0',\n",
    "                                        #filters='!\"#$%&()*+,-./:;<=>?@[\\\\]^_`{|}~\\t\\n',\n",
    "                                        lower=True,\n",
    "                                        split=\" \")\n",
    "            vector = []\n",
    "            for word in word_sequences:\n",
    "                try:\n",
    "                    vector.append(w2v[word])\n",
    "                except KeyError:\n",
    "                    # TODO: incrementally update w2v with OOVs (out-of-vocabularies)\n",
    "                    #print(\"' \" + str(word) + \"' not in vocabulary\")\n",
    "                    unknown_words.append(word)\n",
    "            vectors.append(vector)\n",
    "            label = get_label(path)\n",
    "            labels.append(label)\n",
    "    padded_vectors = sequence.pad_sequences(vectors, maxlen=MAX_SEQUENCE_LENGTH)\n",
    "    return np.array(padded_vectors), np.array(labels), unknown_words\n",
    "    \n",
    "def get_data(path):\n",
    "    texts = []\n",
    "    labels = []\n",
    "    all_paths = glob.glob(os.path.join(path,'*.txt'))\n",
    "    np.random.shuffle(all_paths)\n",
    "    for path in all_paths: \n",
    "        texts.append(get_text(path))\n",
    "        labels.append(get_label(path))\n",
    "    sequences, word_index = get_text_sequences(texts)\n",
    "    return sequences, np.array(labels), word_index"
   ]
  },
  {
   "cell_type": "code",
   "execution_count": 7,
   "metadata": {},
   "outputs": [
    {
     "name": "stdout",
     "output_type": "stream",
     "text": [
      "(1800, 176)\n",
      "(1800,)\n",
      "6666\n",
      "(200, 176)\n",
      "(200,)\n"
     ]
    }
   ],
   "source": [
    "X_train, y_train, word_index = get_data(\"/home/zmccoy/sandbox/sentiment-analysis-arabic/Twitter/Combined/train\")\n",
    "print(X_train.shape)\n",
    "print(y_train.shape)\n",
    "print(len(word_index))\n",
    "X_valid, y_valid, _ = get_data(\"/home/zmccoy/sandbox/sentiment-analysis-arabic/Twitter/Combined/valid\")\n",
    "print(X_valid.shape)\n",
    "print(y_valid.shape)\n",
    "#X_test, y_test = get_data(\"/home/zmccoy/sandbox/sentiment-analysis-arabic/Twitter/Combined/test\")\n",
    "#print(X_test.shape)\n",
    "#print(y_test.shape)"
   ]
  },
  {
   "cell_type": "code",
   "execution_count": 8,
   "metadata": {},
   "outputs": [
    {
     "name": "stdout",
     "output_type": "stream",
     "text": [
      "(1800, 176, 300)\n",
      "(1800,)\n",
      "4895\n",
      "(200, 176, 300)\n",
      "(200,)\n",
      "1463\n"
     ]
    }
   ],
   "source": [
    "X_train_enc, y_train, unk_train = get_data_encoded(\"/home/zmccoy/sandbox/sentiment-analysis-arabic/Twitter/Combined/train\")\n",
    "print(X_train_enc.shape)\n",
    "print(y_train.shape)\n",
    "print(len(unk_train))\n",
    "X_valid_enc, y_valid, unk_valid = get_data_encoded(\"/home/zmccoy/sandbox/sentiment-analysis-arabic/Twitter/Combined/valid\")\n",
    "print(X_valid_enc.shape)\n",
    "print(y_valid.shape)\n",
    "print(len(unk_valid))"
   ]
  },
  {
   "cell_type": "code",
   "execution_count": 9,
   "metadata": {},
   "outputs": [
    {
     "name": "stdout",
     "output_type": "stream",
     "text": [
      "(6667, 300)\n"
     ]
    }
   ],
   "source": [
    "def create_embedding_matrix(word_index):\n",
    "    nb_words = min(MAX_NB_WORDS, len(word_index))+1\n",
    "    embedding_matrix = np.zeros((nb_words, EMBEDDING_DIM))\n",
    "    for word, ii in word_index.items():\n",
    "        if word in w2v.vocab:\n",
    "            embedding_matrix[ii] = w2v.word_vec(word)\n",
    "    return embedding_matrix\n",
    "\n",
    "embedding_matrix = create_embedding_matrix(word_index)\n",
    "print(embedding_matrix.shape)"
   ]
  },
  {
   "cell_type": "code",
   "execution_count": 10,
   "metadata": {},
   "outputs": [],
   "source": [
    "embedding_layer = w2v.get_keras_embedding(train_embeddings=False)\n",
    "#embedding_layer.set_weights(embedding_matrix)\n",
    "#embedding_layer.get_weights()"
   ]
  },
  {
   "cell_type": "code",
   "execution_count": 28,
   "metadata": {},
   "outputs": [],
   "source": [
    "def get_model_pretrained_embedding(trainable=False):\n",
    "    weights_filename = \"keras-lstm-pretrained-embedding.h5\"\n",
    "    if trainable is True:\n",
    "        weights_filename = \"keras-lstm-pretrained-embedding-trainable.h5\"\n",
    "    #embedding_layer = w2v.get_keras_embedding(train_embeddings=trainable)\n",
    "    embedding_layer = Embedding(len(word_index)+1, EMBEDDING_DIM, weights=[embedding_matrix], input_length=MAX_SEQUENCE_LENGTH, trainable=trainable)\n",
    "    return get_model_embedding(embedding_layer), weights_filename\n",
    "    \n",
    "def get_model_from_scratch_embedding():\n",
    "    embedding_layer = Embedding(len(word_index)+1, EMBEDDING_DIM, input_length=MAX_SEQUENCE_LENGTH)\n",
    "    return get_model_embedding(embedding_layer), \"keras-lstm-from-scratch-embedding.h5\"\n",
    "    \n",
    "def get_model_embedding(embedding_layer):\n",
    "    sentence_indices = Input(shape=(MAX_SEQUENCE_LENGTH,),dtype='int32')\n",
    "    embeddings = embedding_layer(sentence_indices)   \n",
    "    # Propagate the embeddings through an LSTM layer with 128-dimensional hidden state\n",
    "    # Returned output should be a batch of sequences.\n",
    "    X = LSTM(128, return_sequences=True)(embeddings)\n",
    "    X = Dropout(0.5)(X)\n",
    "    # Returned output should be a single hidden state, not a batch of sequences.\n",
    "    X = LSTM(128)(X)\n",
    "    X = Dropout(0.5)(X)\n",
    "    X = Dense(1)(X)\n",
    "    X = Activation('sigmoid')(X)\n",
    "    model = Model(inputs=sentence_indices,outputs=X)\n",
    "    return model  \n",
    "\n",
    "def get_model_no_embedding():\n",
    "    model = Sequential()\n",
    "    model.add(LSTM(128, return_sequences=True, input_shape=(MAX_SEQUENCE_LENGTH,EMBEDDING_DIM)))\n",
    "    model.add(Dropout(0.5))\n",
    "    model.add(LSTM(128))\n",
    "    model.add(Dropout(0.5))\n",
    "    model.add(Dense(1))\n",
    "    model.add(Activation('sigmoid'))\n",
    "    return model, \"keras-lstm-no-embedding.h5\"\n",
    "\n",
    "def get_model_pretrained_embedding_bidirectional():\n",
    "    sentence_indices = Input(shape=(MAX_SEQUENCE_LENGTH,),dtype='int32')\n",
    "    embedding_layer = Embedding(len(word_index)+1, EMBEDDING_DIM, weights=[embedding_matrix], input_length=MAX_SEQUENCE_LENGTH, trainable=True)\n",
    "    embeddings = embedding_layer(sentence_indices)   \n",
    "    X = Bidirectional(LSTM(60, return_sequences=True, dropout=0.1, recurrent_dropout=0.1))(embeddings)\n",
    "    X = GlobalMaxPool1D()(X)\n",
    "    X = Dropout(0.1)(X)\n",
    "    X = Dense(50)(X)\n",
    "    X = Activation(\"relu\")(X)\n",
    "    X = Dropout(0.1)(X)\n",
    "    X = Dense(1)(X)\n",
    "    X = Activation('sigmoid')(X)\n",
    "    model = Model(inputs=sentence_indices,outputs=X)\n",
    "    return model, \"keras-lstm-pretrained-embedding-bidirectional-trainable.h5\""
   ]
  },
  {
   "cell_type": "markdown",
   "metadata": {},
   "source": [
    "There are 3 approaches:\n",
    "\n",
    " 1. Learn embedding from scratch - simply add an Embedding layer to your model\n",
    " 1. Fine tune learned embeddings - this involves setting word2vec / GloVe vectors as your Embedding layer's weights.\n",
    " 1. Use word word2vec / Glove word vectors as inputs to your model, instead of one-hot encoding.\n",
    " \n",
    " \n",
    " - (Bidirectional) -see: https://www.kaggle.com/sbongo/do-pretrained-embeddings-give-you-the-extra-edge\n"
   ]
  },
  {
   "cell_type": "code",
   "execution_count": 29,
   "metadata": {},
   "outputs": [],
   "source": [
    "#1\n",
    "model_from_scratch, weights_filepath = get_model_from_scratch_embedding()\n",
    "#2A\n",
    "model_pt_frozen, weights_filepath = get_model_pretrained_embedding()\n",
    "#2B\n",
    "model_pt_trainable, weights_filepath = get_model_pretrained_embedding(trainable=True)\n",
    "#3\n",
    "model_no_embedding, weights_filepath = get_model_no_embedding()\n",
    "# Bidirectional\n",
    "model_bidirectional, weights_filepath = get_model_pretrained_embedding_bidirectional()\n",
    "#model.load_weights(weights_filepath)\n",
    "#model.summary()"
   ]
  },
  {
   "cell_type": "code",
   "execution_count": 32,
   "metadata": {},
   "outputs": [
    {
     "name": "stdout",
     "output_type": "stream",
     "text": [
      "keras-lstm-pretrained-embedding-bidirectional-trainable.h5\n"
     ]
    }
   ],
   "source": [
    "print(weights_filepath)"
   ]
  },
  {
   "cell_type": "code",
   "execution_count": 30,
   "metadata": {
    "collapsed": true
   },
   "outputs": [],
   "source": [
    "model_from_scratch.compile(loss=\"binary_crossentropy\", optimizer='adam', metrics=['accuracy'])\n",
    "model_pt_frozen.compile(loss=\"binary_crossentropy\", optimizer='adam', metrics=['accuracy'])\n",
    "model_pt_trainable.compile(loss=\"binary_crossentropy\", optimizer='adam', metrics=['accuracy'])\n",
    "model_no_embedding.compile(loss=\"binary_crossentropy\", optimizer='adam', metrics=['accuracy'])\n",
    "model_bidirectional.compile(loss=\"binary_crossentropy\", optimizer='adam', metrics=['accuracy'])"
   ]
  },
  {
   "cell_type": "code",
   "execution_count": 33,
   "metadata": {},
   "outputs": [],
   "source": [
    "from keras.callbacks import ModelCheckpoint, EarlyStopping\n",
    "checkpoint = ModelCheckpoint(filepath=weights_filepath, monitor='val_loss', verbose=1, save_best_only=True, mode='min')\n",
    "early_stopping = EarlyStopping(monitor='val_loss', patience=6)\n",
    "callbacks = [checkpoint, early_stopping]"
   ]
  },
  {
   "cell_type": "code",
   "execution_count": 34,
   "metadata": {},
   "outputs": [
    {
     "name": "stdout",
     "output_type": "stream",
     "text": [
      "Train on 1800 samples, validate on 200 samples\n",
      "Epoch 1/10\n",
      "1792/1800 [============================>.] - ETA: 0s - loss: 0.3508 - acc: 0.8834\n",
      "Epoch 00001: val_loss improved from inf to 1.01941, saving model to keras-lstm-pretrained-embedding-bidirectional-trainable.h5\n",
      "1800/1800 [==============================] - 33s 18ms/step - loss: 0.3503 - acc: 0.8839 - val_loss: 1.0194 - val_acc: 0.5350\n",
      "Epoch 2/10\n",
      "1792/1800 [============================>.] - ETA: 0s - loss: 0.1975 - acc: 0.9414\n",
      "Epoch 00002: val_loss did not improve\n",
      "1800/1800 [==============================] - 32s 18ms/step - loss: 0.1976 - acc: 0.9411 - val_loss: 1.2697 - val_acc: 0.5400\n",
      "Epoch 3/10\n",
      "1792/1800 [============================>.] - ETA: 0s - loss: 0.1010 - acc: 0.9727\n",
      "Epoch 00003: val_loss did not improve\n",
      "1800/1800 [==============================] - 34s 19ms/step - loss: 0.1019 - acc: 0.9722 - val_loss: 1.4118 - val_acc: 0.5150\n",
      "Epoch 4/10\n",
      "1792/1800 [============================>.] - ETA: 0s - loss: 0.0688 - acc: 0.9788\n",
      "Epoch 00004: val_loss did not improve\n",
      "1800/1800 [==============================] - 34s 19ms/step - loss: 0.0687 - acc: 0.9789 - val_loss: 1.6853 - val_acc: 0.5150\n",
      "Epoch 5/10\n",
      "1792/1800 [============================>.] - ETA: 0s - loss: 0.0352 - acc: 0.9900\n",
      "Epoch 00005: val_loss did not improve\n",
      "1800/1800 [==============================] - 35s 19ms/step - loss: 0.0355 - acc: 0.9894 - val_loss: 1.8399 - val_acc: 0.5400\n",
      "Epoch 6/10\n",
      "1792/1800 [============================>.] - ETA: 0s - loss: 0.0351 - acc: 0.9900\n",
      "Epoch 00006: val_loss did not improve\n",
      "1800/1800 [==============================] - 34s 19ms/step - loss: 0.0350 - acc: 0.9900 - val_loss: 2.0826 - val_acc: 0.5100\n",
      "Epoch 7/10\n",
      "1792/1800 [============================>.] - ETA: 0s - loss: 0.0289 - acc: 0.9916\n",
      "Epoch 00007: val_loss did not improve\n",
      "1800/1800 [==============================] - 33s 18ms/step - loss: 0.0288 - acc: 0.9917 - val_loss: 2.0289 - val_acc: 0.5000\n"
     ]
    }
   ],
   "source": [
    "batch_size = 32\n",
    "epochs = 10\n",
    "#model_from_scratch.fit(X_train, y_train, batch_size=batch_size, epochs=epochs, validation_data=(X_valid, y_valid), callbacks=callbacks)\n",
    "#model_pt_frozen.fit(X_train, y_train, batch_size=batch_size, epochs=epochs, validation_data=(X_valid, y_valid), callbacks=callbacks)\n",
    "#model_pt_trainable.fit(X_train, y_train, batch_size=batch_size, epochs=epochs, validation_data=(X_valid, y_valid), callbacks=callbacks) \n",
    "#model_no_embedding.fit(X_train_enc, y_train, batch_size=batch_size, epochs=epochs, validation_data=(X_valid_enc, y_valid), callbacks=callbacks)\n",
    "history = model_bidirectional.fit(X_train, y_train, batch_size=batch_size, epochs=epochs, validation_data=(X_valid, y_valid), callbacks=callbacks) "
   ]
  },
  {
   "cell_type": "code",
   "execution_count": 35,
   "metadata": {},
   "outputs": [
    {
     "data": {
      "image/png": "[encoded data removed]",
      "text/plain": [
       "<matplotlib.figure.Figure at 0x7f4ff353ee48>"
      ]
     },
     "metadata": {},
     "output_type": "display_data"
    },
    {
     "data": {
      "image/png": "[encoded data removed]",
      "text/plain": [
       "<matplotlib.figure.Figure at 0x7f4ff1833a90>"
      ]
     },
     "metadata": {},
     "output_type": "display_data"
    }
   ],
   "source": [
    "from matplotlib import pyplot as plt\n",
    "%matplotlib inline\n",
    "\n",
    "def plot_history(history):\n",
    "    plt.plot(history.history['loss'],'r--')\n",
    "    plt.plot(history.history['val_loss'],'b-')\n",
    "    plt.title('Model Loss')\n",
    "    plt.legend(['Train Loss', 'Valid Loss'])\n",
    "    plt.xlabel('Epoch')\n",
    "    plt.ylabel('Loss')\n",
    "    plt.show();\n",
    "    plt.plot(history.history['acc'],'r--')\n",
    "    plt.plot(history.history['val_acc'],'b-')\n",
    "    plt.title('Model Accuracy')\n",
    "    plt.legend(['Train Acc', 'Valid Acc'])\n",
    "    plt.ylabel('Accuracy')\n",
    "    plt.xlabel('Epoch')\n",
    "    plt.show()\n",
    "\n",
    "# requires history=model.fit, fit_generator...\n",
    "plot_history(history)"
   ]
  },
  {
   "cell_type": "code",
   "execution_count": 36,
   "metadata": {},
   "outputs": [
    {
     "name": "stdout",
     "output_type": "stream",
     "text": [
      "--- FROM SCRATCH EMBEDDINGS ---\n",
      "200/200 [==============================] - 2s 9ms/step\n",
      "loss / accuracy = 0.6935 / 0.4750\n",
      "--- ARABIC EMBEDDINGS - FROZEN ---\n",
      "200/200 [==============================] - 2s 8ms/step\n",
      "loss / accuracy = 0.6951 / 0.5250\n",
      "--- ARABIC EMBEDDINGS - TRAINABLE ---\n",
      "200/200 [==============================] - 2s 8ms/step\n",
      "loss / accuracy = 0.6911 / 0.5100\n",
      "--- NO EMBEDDING ---\n",
      "200/200 [==============================] - 2s 9ms/step\n",
      "loss / accuracy = 0.6975 / 0.5150\n",
      "--- BIDIRECTIONAL - ARABIC EMBEDDINGS - TRAINABLE ---\n",
      "200/200 [==============================] - 1s 4ms/step\n",
      "loss / accuracy = 2.0289 / 0.5000\n"
     ]
    }
   ],
   "source": [
    "print(\"--- FROM SCRATCH EMBEDDINGS ---\")\n",
    "loss, acc = model_from_scratch.evaluate(X_valid, y_valid, batch_size)\n",
    "print('loss / accuracy = {:.4f} / {:.4f}'.format(loss, acc))\n",
    "print(\"--- ARABIC EMBEDDINGS - FROZEN ---\")\n",
    "loss, acc = model_pt_frozen.evaluate(X_valid, y_valid, batch_size)\n",
    "print('loss / accuracy = {:.4f} / {:.4f}'.format(loss, acc))\n",
    "print(\"--- ARABIC EMBEDDINGS - TRAINABLE ---\")\n",
    "loss, acc = model_pt_trainable.evaluate(X_valid, y_valid, batch_size)\n",
    "print('loss / accuracy = {:.4f} / {:.4f}'.format(loss, acc))\n",
    "print(\"--- NO EMBEDDING ---\")\n",
    "loss, acc = model_no_embedding.evaluate(X_valid_enc, y_valid, batch_size)\n",
    "print('loss / accuracy = {:.4f} / {:.4f}'.format(loss, acc))\n",
    "print(\"--- BIDIRECTIONAL - ARABIC EMBEDDINGS - TRAINABLE ---\")\n",
    "loss, acc = model_bidirectional.evaluate(X_valid, y_valid, batch_size)\n",
    "print('loss / accuracy = {:.4f} / {:.4f}'.format(loss, acc))"
   ]
  },
  {
   "cell_type": "code",
   "execution_count": 37,
   "metadata": {},
   "outputs": [
    {
     "name": "stdout",
     "output_type": "stream",
     "text": [
      "(46, 176)\n",
      "(46,)\n"
     ]
    }
   ],
   "source": [
    "X_erik, y_erik, _ = get_data(\"/home/zmccoy/sandbox/sentiment-analysis-arabic/Erik\")\n",
    "print(X_erik.shape)\n",
    "print(y_erik.shape)"
   ]
  },
  {
   "cell_type": "code",
   "execution_count": 38,
   "metadata": {},
   "outputs": [
    {
     "name": "stdout",
     "output_type": "stream",
     "text": [
      "(46, 176, 300)\n",
      "(46,)\n"
     ]
    }
   ],
   "source": [
    "X_erik_enc, y_erik, _ = get_data_encoded(\"/home/zmccoy/sandbox/sentiment-analysis-arabic/Erik\")\n",
    "print(X_erik_enc.shape)\n",
    "print(y_erik.shape)"
   ]
  },
  {
   "cell_type": "code",
   "execution_count": 39,
   "metadata": {},
   "outputs": [
    {
     "name": "stdout",
     "output_type": "stream",
     "text": [
      "--- FROM SCRATCH EMBEDDINGS ---\n",
      "46/46 [==============================] - 0s 9ms/step\n",
      "loss / accuracy = 0.6915 / 0.6087\n",
      "--- ARABIC EMBEDDINGS - FROZEN ---\n",
      "46/46 [==============================] - 0s 7ms/step\n",
      "loss / accuracy = 0.6589 / 0.7391\n",
      "--- ARABIC EMBEDDINGS - TRAINABLE ---\n",
      "46/46 [==============================] - 0s 7ms/step\n",
      "loss / accuracy = 0.6900 / 0.5870\n",
      "--- NO EMBEDDING ---\n",
      "46/46 [==============================] - 0s 8ms/step\n",
      "loss / accuracy = 0.7153 / 0.3478\n",
      "--- BIDIRECTIONAL - ARABIC EMBEDDINGS - TRAINABLE ---\n",
      "46/46 [==============================] - 0s 5ms/step\n",
      "loss / accuracy = 2.1209 / 0.4565\n"
     ]
    }
   ],
   "source": [
    "print(\"--- FROM SCRATCH EMBEDDINGS ---\")\n",
    "loss, acc = model_from_scratch.evaluate(X_erik, y_erik, batch_size)\n",
    "print('loss / accuracy = {:.4f} / {:.4f}'.format(loss, acc))\n",
    "print(\"--- ARABIC EMBEDDINGS - FROZEN ---\")\n",
    "loss, acc = model_pt_frozen.evaluate(X_erik, y_erik, batch_size)\n",
    "print('loss / accuracy = {:.4f} / {:.4f}'.format(loss, acc))\n",
    "print(\"--- ARABIC EMBEDDINGS - TRAINABLE ---\")\n",
    "loss, acc = model_pt_trainable.evaluate(X_erik, y_erik, batch_size)\n",
    "print('loss / accuracy = {:.4f} / {:.4f}'.format(loss, acc))\n",
    "print(\"--- NO EMBEDDING ---\")\n",
    "loss, acc = model_no_embedding.evaluate(X_erik_enc, y_erik, batch_size)\n",
    "print('loss / accuracy = {:.4f} / {:.4f}'.format(loss, acc))\n",
    "print(\"--- BIDIRECTIONAL - ARABIC EMBEDDINGS - TRAINABLE ---\")\n",
    "loss, acc = model_bidirectional.evaluate(X_erik, y_erik, batch_size)\n",
    "print('loss / accuracy = {:.4f} / {:.4f}'.format(loss, acc))"
   ]
  },
  {
   "cell_type": "code",
   "execution_count": 63,
   "metadata": {},
   "outputs": [
    {
     "name": "stdout",
     "output_type": "stream",
     "text": [
      "[[ 0.27497286]]\n",
      "1\n"
     ]
    }
   ],
   "source": [
    "prediction = model.predict(np.expand_dims(X_valid[0], axis=0))\n",
    "print(prediction)\n",
    "print(y_valid[0])"
   ]
  },
  {
   "cell_type": "code",
   "execution_count": 95,
   "metadata": {},
   "outputs": [
    {
     "name": "stdout",
     "output_type": "stream",
     "text": [
      "[[ 0.81656635]]\n",
      "1\n",
      "[[ 0.99748188]]\n",
      "0\n",
      "[[  1.80920106e-05]]\n",
      "0\n",
      "[[ 0.99516833]]\n",
      "1\n",
      "[[ 0.99845576]]\n",
      "0\n",
      "[[ 0.00012938]]\n",
      "1\n",
      "[[ 0.99482805]]\n",
      "1\n",
      "[[ 0.83433056]]\n",
      "0\n",
      "[[ 0.96691805]]\n",
      "0\n",
      "[[ 0.99261498]]\n",
      "0\n",
      "[[ 0.99879694]]\n",
      "1\n",
      "[[ 0.89137501]]\n",
      "1\n",
      "[[ 0.77385813]]\n",
      "1\n",
      "[[ 0.99879694]]\n",
      "1\n",
      "[[ 0.65688211]]\n",
      "0\n",
      "[[ 0.89137501]]\n",
      "0\n",
      "[[ 0.99907851]]\n",
      "0\n",
      "[[  7.99180270e-05]]\n",
      "0\n",
      "[[  6.49700232e-05]]\n",
      "1\n",
      "[[ 0.83953166]]\n",
      "1\n",
      "[[ 0.00027996]]\n",
      "1\n",
      "[[  4.42184064e-05]]\n",
      "0\n",
      "[[ 0.99482805]]\n",
      "1\n",
      "[[ 0.95023125]]\n",
      "0\n",
      "[[ 0.00012473]]\n",
      "0\n",
      "[[ 0.00012175]]\n",
      "1\n",
      "[[ 0.99516833]]\n",
      "1\n",
      "[[ 0.01390911]]\n",
      "1\n",
      "[[ 0.98537529]]\n",
      "0\n",
      "[[ 0.00011178]]\n",
      "0\n",
      "[[ 0.00475288]]\n",
      "0\n",
      "[[  4.42184064e-05]]\n",
      "0\n",
      "[[ 0.0011296]]\n",
      "1\n",
      "[[ 0.00022305]]\n",
      "0\n",
      "[[ 0.00776734]]\n",
      "0\n",
      "[[ 0.96172303]]\n",
      "0\n",
      "[[ 0.00012938]]\n",
      "0\n",
      "[[ 0.00035826]]\n",
      "1\n",
      "[[ 0.00022305]]\n",
      "0\n",
      "[[ 0.00027996]]\n",
      "0\n",
      "[[ 0.01497073]]\n",
      "0\n",
      "[[ 0.00012175]]\n",
      "0\n",
      "[[ 0.04223976]]\n",
      "1\n",
      "[[ 0.99942207]]\n",
      "1\n",
      "[[ 0.00053039]]\n",
      "1\n",
      "[[ 0.04654312]]\n",
      "1\n"
     ]
    }
   ],
   "source": [
    "for ii in range(len(X_erik)):\n",
    "    prediction = model_pt_trainable.predict(np.expand_dims(X_erik[ii], axis=0))\n",
    "    print(prediction)\n",
    "    print(y_valid[ii])"
   ]
  },
  {
   "cell_type": "code",
   "execution_count": null,
   "metadata": {
    "collapsed": true
   },
   "outputs": [],
   "source": []
  }
 ],
 "metadata": {
  "kernelspec": {
   "display_name": "Python 3",
   "language": "python",
   "name": "python3"
  },
  "language_info": {
   "codemirror_mode": {
    "name": "ipython",
    "version": 3
   },
   "file_extension": ".py",
   "mimetype": "text/x-python",
   "name": "python",
   "nbconvert_exporter": "python",
   "pygments_lexer": "ipython3",
   "version": "3.6.3"
  }
 },
 "nbformat": 4,
 "nbformat_minor": 2
}
